{
 "cells": [
  {
   "cell_type": "code",
   "execution_count": 1,
   "metadata": {},
   "outputs": [],
   "source": [
    "import cv2\n",
    "import os\n",
    "import time\n",
    "import uuid"
   ]
  },
  {
   "cell_type": "code",
   "execution_count": 2,
   "metadata": {},
   "outputs": [],
   "source": [
    "IMAGES_PATH = 'Tensorflow/workspace/images/collectedimages'"
   ]
  },
  {
   "cell_type": "code",
   "execution_count": 3,
   "metadata": {},
   "outputs": [],
   "source": [
    "labels = ['hello', 'thanks', 'yes', 'no', 'iloveyou' ]\n",
    "number_imgs = 15"
   ]
  },
  {
   "cell_type": "code",
   "execution_count": 4,
   "metadata": {},
   "outputs": [
    {
     "name": "stdout",
     "output_type": "stream",
     "text": [
      "\n",
      "Starting collection for: 'hello'\n",
      "Camera is ready.\n",
      "You have 5 seconds to get ready...\n",
      "Saved image 1 for 'hello' at Tensorflow/workspace/images/collectedimages/hello/hello.dda2db9a-1d95-11f0-8fca-b88a609b2620.jpg\n",
      "Saved image 2 for 'hello' at Tensorflow/workspace/images/collectedimages/hello/hello.df81960e-1d95-11f0-8fca-b88a609b2620.jpg\n",
      "Saved image 3 for 'hello' at Tensorflow/workspace/images/collectedimages/hello/hello.e0be5f34-1d95-11f0-8fca-b88a609b2620.jpg\n",
      "Saved image 4 for 'hello' at Tensorflow/workspace/images/collectedimages/hello/hello.e1efc6b8-1d95-11f0-8fca-b88a609b2620.jpg\n",
      "Saved image 5 for 'hello' at Tensorflow/workspace/images/collectedimages/hello/hello.e3209e9a-1d95-11f0-8fca-b88a609b2620.jpg\n",
      "Saved image 6 for 'hello' at Tensorflow/workspace/images/collectedimages/hello/hello.e45228ba-1d95-11f0-8fca-b88a609b2620.jpg\n",
      "Done collecting images for 'hello'.\n"
     ]
    },
    {
     "ename": "KeyboardInterrupt",
     "evalue": "",
     "output_type": "error",
     "traceback": [
      "\u001b[31m---------------------------------------------------------------------------\u001b[39m",
      "\u001b[31mKeyboardInterrupt\u001b[39m                         Traceback (most recent call last)",
      "\u001b[36mCell\u001b[39m\u001b[36m \u001b[39m\u001b[32mIn[4]\u001b[39m\u001b[32m, line 38\u001b[39m\n\u001b[32m     34\u001b[39m cv2.imshow(\u001b[33m'\u001b[39m\u001b[33mWebcam Preview - Press Q to stop\u001b[39m\u001b[33m'\u001b[39m, frame)\n\u001b[32m     36\u001b[39m \u001b[38;5;28mprint\u001b[39m(\u001b[33mf\u001b[39m\u001b[33m\"\u001b[39m\u001b[33mSaved image \u001b[39m\u001b[38;5;132;01m{\u001b[39;00mimg_num\u001b[38;5;250m \u001b[39m+\u001b[38;5;250m \u001b[39m\u001b[32m1\u001b[39m\u001b[38;5;132;01m}\u001b[39;00m\u001b[33m for \u001b[39m\u001b[33m'\u001b[39m\u001b[38;5;132;01m{\u001b[39;00mlabel\u001b[38;5;132;01m}\u001b[39;00m\u001b[33m'\u001b[39m\u001b[33m at \u001b[39m\u001b[38;5;132;01m{\u001b[39;00mimg_path\u001b[38;5;132;01m}\u001b[39;00m\u001b[33m\"\u001b[39m)\n\u001b[32m---> \u001b[39m\u001b[32m38\u001b[39m \u001b[38;5;28;01mif\u001b[39;00m \u001b[43mcv2\u001b[49m\u001b[43m.\u001b[49m\u001b[43mwaitKey\u001b[49m\u001b[43m(\u001b[49m\u001b[32;43m2000\u001b[39;49m\u001b[43m)\u001b[49m & \u001b[32m0xFF\u001b[39m == \u001b[38;5;28mord\u001b[39m(\u001b[33m'\u001b[39m\u001b[33mq\u001b[39m\u001b[33m'\u001b[39m):\n\u001b[32m     39\u001b[39m     \u001b[38;5;28mprint\u001b[39m(\u001b[33m\"\u001b[39m\u001b[33mImage collection interrupted by user.\u001b[39m\u001b[33m\"\u001b[39m)\n\u001b[32m     40\u001b[39m     \u001b[38;5;28;01mbreak\u001b[39;00m\n",
      "\u001b[31mKeyboardInterrupt\u001b[39m: "
     ]
    }
   ],
   "source": [
    "for label in labels:\n",
    "    print(f\"\\nStarting collection for: '{label}'\")\n",
    "\n",
    "    # create a directory for the label if it doesn't exist..\n",
    "    label_dir = os.path.join(IMAGES_PATH, label)\n",
    "    os.makedirs(label_dir, exist_ok=True)\n",
    "\n",
    "    # for turning on the webcam\n",
    "    cap = cv2.VideoCapture(0)\n",
    "\n",
    "    #check if webcam is working or not\n",
    "    if cap.isOpened():\n",
    "        print(\"Camera is ready.\")\n",
    "    else:\n",
    "        print(\"Camera could not be opened.\")\n",
    "        continue \n",
    "\n",
    "    print(\"You have 5 seconds to get ready...\")\n",
    "    time.sleep(5)\n",
    "\n",
    "    try:\n",
    "        for img_num in range(number_imgs):\n",
    "            ret, frame = cap.read()\n",
    "\n",
    "            if not ret:\n",
    "                print(\"Webcam failed to capture image.\")\n",
    "                break\n",
    "\n",
    "            img_filename = f\"{label}.{uuid.uuid1()}.jpg\"\n",
    "            img_path = os.path.join(label_dir, img_filename)\n",
    "\n",
    "            cv2.imwrite(img_path, frame)\n",
    "\n",
    "            cv2.imshow('Webcam Preview - Press Q to stop', frame)\n",
    "\n",
    "            print(f\"Saved image {img_num + 1} for '{label}' at {img_path}\")\n",
    "\n",
    "            if cv2.waitKey(2000) & 0xFF == ord('q'):\n",
    "                print(\"Image collection interrupted by user.\")\n",
    "                break\n",
    "\n",
    "    finally:\n",
    "\n",
    "        cap.release()\n",
    "        cv2.destroyAllWindows()\n",
    "        print(f\"Done collecting images for '{label}'.\")\n",
    "\n",
    "print(\"\\nAll label image collection complete.\")\n"
   ]
  }
 ],
 "metadata": {
  "kernelspec": {
   "display_name": ".venv",
   "language": "python",
   "name": "python3"
  },
  "language_info": {
   "codemirror_mode": {
    "name": "ipython",
    "version": 3
   },
   "file_extension": ".py",
   "mimetype": "text/x-python",
   "name": "python",
   "nbconvert_exporter": "python",
   "pygments_lexer": "ipython3",
   "version": "3.13.2"
  }
 },
 "nbformat": 4,
 "nbformat_minor": 2
}
